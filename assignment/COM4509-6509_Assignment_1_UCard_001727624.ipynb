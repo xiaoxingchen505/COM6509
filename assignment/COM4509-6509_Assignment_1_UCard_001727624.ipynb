{
 "cells": [
  {
   "cell_type": "markdown",
   "metadata": {},
   "source": [
    "# Assignment 1 Brief \n",
    "\n",
    "## Deadline: Tuesday, October 29, 2019 at 14:00 hrs\n",
    "\n",
    "## Number of marks available: 20\n",
    "\n",
    "## Scope: Sessions 1 to 5\n",
    "\n",
    "### How and what to submit\n",
    "\n",
    "A. Submit a Jupyter Notebook named COM4509-6509_Assignment_1_UCard_XXXXXXXXX.ipynb where XXXXXXXXX refers to your UCard number.\n",
    "\n",
    "B. Upload the notebook file to MOLE before the deadline above.\n",
    "\n",
    "C. **NO DATA UPLOAD**: Please do not upload the data files used. We have a copy already. \n",
    "\n",
    "\n",
    "### Assessment Criteria \n",
    "\n",
    "* Being able to express an objective function and its gradients in matrix form.\n",
    "\n",
    "* Being able to use numpy and pandas to preprocess a dataset.\n",
    "\n",
    "* Being able to use numpy to build a machine learning pipeline for supervised learning. \n",
    "\n",
    "\n",
    "### Late submissions\n",
    "\n",
    "We follow Department's guidelines about late submissions, i.e., a deduction of 5% of the mark each working day the work is late after the deadline. NO late submission will be marked one week after the deadline because we will release a solution by then. Please read [this link](https://sites.google.com/sheffield.ac.uk/compgtstudenthandbook/menu/assessment/late-submission?pli=1&authuser=1). \n",
    "\n",
    "### Use of unfair means \n",
    "\n",
    "**\"Any form of unfair means is treated as a serious academic offence and action may be taken under the Discipline Regulations.\"** (from the MSc Handbook). Please carefully read [this link](https://sites.google.com/sheffield.ac.uk/compgtstudenthandbook/menu/referencing-unfair-means?pli=1&authuser=1) on what constitutes Unfair Means if not sure."
   ]
  },
  {
   "cell_type": "markdown",
   "metadata": {},
   "source": [
    "# Regularisation for Linear Regression\n",
    "\n",
    "Regularisation is a technique commonly used in Machine Learning to prevent overfitting. It consists on adding terms to the objective function such that the optimisation procedure avoids solutions that just learn the training data. Popular techniques for regularisation in Supervised Learning include Lasso Regression, Ridge Regression and the Elastic Net. \n",
    "\n",
    "In this Assignment, you will be looking at Ridge Regression and devising equations to optimise the objective function in Ridge Regression using two methods: a closed-form derivation and the update rules for stochastic gradient descent. You will then use those update rules for making predictions on a Air Quaility dataset.\n",
    "\n",
    "## Ridge Regression\n",
    "\n",
    "Let us start with a data set for training $\\mathcal{D} = \\{\\mathbf{y}, \\mathbf{X}\\}$, where the vector $\\mathbf{y}=[y_1, \\cdots, y_n]^{\\top}$ and $\\mathbf{X}$ is the design matrix from Lab 3, this is, \n",
    "\n",
    "\\begin{align*}\n",
    "    \\mathbf{X} = \n",
    "                \\begin{bmatrix}\n",
    "                        1 & x_{1,1} & \\cdots & x_{1, D}\\\\\n",
    "                        1 & x_{2,1} & \\cdots & x_{2, D}\\\\\n",
    "                   \\vdots &  \\vdots\\\\\n",
    "                        1 & x_{n,1} & \\cdots & x_{n, D}\n",
    "                \\end{bmatrix}\n",
    "               = \n",
    "               \\begin{bmatrix}\n",
    "                      \\mathbf{x}_1^{\\top}\\\\\n",
    "                       \\mathbf{x}_2^{\\top}\\\\\n",
    "                          \\vdots\\\\\n",
    "                        \\mathbf{x}_n^{\\top}\n",
    "                \\end{bmatrix}.\n",
    "\\end{align*}\n",
    "\n",
    "Our predictive model is going to be a linear model\n",
    "\n",
    "$$ f(\\mathbf{x}_i) = \\mathbf{w}^{\\top}\\mathbf{x}_i,$$\n",
    "\n",
    "where $\\mathbf{w} = [w_0\\; w_1\\; \\cdots \\; w_D]^{\\top}$.\n",
    "\n",
    "The **objetive function** we are going to use has the following form\n",
    "\n",
    "$$ J(\\mathbf{w}, \\alpha) = \\frac{1}{n}\\sum_{i=1}^n (y_i - f(\\mathbf{x}_i))^2 + \\frac{\\alpha}{2}\\sum_{j=0}^D w_j^2,$$\n",
    "\n",
    "where $\\alpha>0$ is known as the *regularisation* parameter.\n",
    "\n",
    "The first term on the right-hand side (rhs) of the expression for $J(\\mathbf{w}, \\alpha)$ is very similar to the least-squares objective function we have seen before, for example in Lab 3. The only difference is on the term $\\frac{1}{n}$ that we use to normalise the objective with respect to the number of observations in the dataset. \n",
    "\n",
    "The first term on the rhs is what we call the \"fitting\" term whereas the second term in the expression is the regularisation term. Given $\\alpha$, the two terms in the expression have different purposes. The first term is looking for a value of $\\mathbf{w}$ that leads the squared-errors to zero. While doing this, $\\mathbf{w}$ can take any value and lead to a solution that it is only good for the training data but perhaps not for the test data. The second term is regularising the behavior of the first term by driving the $\\mathbf{w}$ towards zero. By doing this, it restricts the possible set of values that $\\mathbf{w}$ might take according to the first term. The value that we use for $\\alpha$ will allow a compromise between a value of $\\mathbf{w}$ that exactly fits the data (first term) or a value of $\\mathbf{w}$ that does not grow too much (second term).\n",
    "\n",
    "This type of regularisation has different names: ridge regression, Tikhonov regularisation or $\\ell_2$ norm regularisation. \n",
    "\n",
    "### Question 1: $J(\\mathbf{w}, \\alpha)$ in matrix form (2 marks)\n",
    "\n",
    "Write the expression for $J(\\mathbf{w}, \\alpha)$ in matrix form. Include ALL the steps necessary to reach the expression."
   ]
  },
  {
   "cell_type": "markdown",
   "metadata": {},
   "source": [
    "#### Question 1 Answer\n",
    "\n",
    "$$ J(\\mathbf{w}, \\alpha) = \\frac{1}{n}\\sum_{i=1}^n (y_i - f(\\mathbf{x}_i))^2 + \\frac{\\alpha}{2}\\sum_{j=0}^D w_j^2,$$\n",
    "\n",
    "First Sum：\n",
    "all we need to do is convert the sum operator to an inner product. We can get a vector from that sum operator by placing both  𝑦𝑖  and  𝑓(𝐱𝑖)  into vector\n",
    "\n",
    "$$\n",
    "\\mathbf{y} = \\begin{bmatrix}y_1\\\\y_2\\\\ \\vdots \\\\ y_n\\end{bmatrix}\n",
    "$$\n",
    "and defining\n",
    "$$\n",
    "\\mathbf{f}(\\mathbf{X}) = \\begin{bmatrix}f(\\mathbf{x}_1)\\\\f(\\mathbf{x}_2)\\\\ \\vdots \\\\ f(\\mathbf{x}_n)\\end{bmatrix}.\n",
    "$$\n",
    "\n",
    "for the moment, ignore the dependence of $\\mathbf{f}$ $\\mathbf{X}$ and simply summarise it by a vector of numbers\n",
    "$$\n",
    "\\mathbf{f} = \\begin{bmatrix}f_1\\\\f_2\\\\ \\vdots \\\\ f_n\\end{bmatrix}.\n",
    "$$\n",
    "\n",
    "so the first sum of this equation can be written as :\n",
    "$$\n",
    "\\frac{(\\mathbf{y} - \\mathbf{f})^\\top(\\mathbf{y} - \\mathbf{f})}{n}\n",
    "$$\n",
    "\n",
    "Second Sum:\n",
    "convert the sum operator to an inner product. We can get a vector from that sum operator by placing Wj  into vector\n",
    "\n",
    "$$\n",
    "\\mathbf{w} = \\begin{bmatrix}w_0\\\\w_1\\\\ \\vdots \\\\ w_D\\end{bmatrix}\n",
    "$$\n",
    "\n",
    "so we have \n",
    "\n",
    "$$\n",
    "            \\frac{\\alpha}{2}\\sum_{j=0}^D w_j^2 = \\frac{\\alpha}{2}(\\mathbf{w}^T\\mathbf{w})\n",
    "$$\n",
    "\n",
    "Finally, the whole objective function in linear algebraic form:\n",
    "$$\n",
    "J(\\mathbf{w}, \\alpha) = \\frac{(\\mathbf{y} - \\mathbf{f})^\\top(\\mathbf{y} - \\mathbf{f})}{n}+\\frac{\\alpha(\\mathbf{w}^T\\mathbf{w})}{2}\n",
    "$$ \n",
    "\n",
    "since $$ f(\\mathbf{x}_i) = \\mathbf{w}^{\\top}\\mathbf{x}_i,$$\n",
    "\n",
    "the function can be written as:\n",
    "\n",
    "$$\n",
    "J(\\mathbf{w}, \\alpha) = \\frac{(\\mathbf{y} - \\mathbf{w}^{\\top}\\mathbf{x}_i)^\\top(\\mathbf{y} - \\mathbf{w}^{\\top}\\mathbf{x}_i)}{n}+\\frac{\\alpha(\\mathbf{w}^T\\mathbf{w})}{2}\n",
    "$$ \n",
    "\n",
    "\n",
    "In Matrix Expression:\n",
    "$$\n",
    "\\frac{(\\begin{bmatrix}y_1\\\\y_2\\\\ \\vdots \\\\ y_n\\end{bmatrix}-\\begin{bmatrix}f_1\\\\f_2\\\\ \\vdots \\\\ f_n\\end{bmatrix})^T\\begin{bmatrix}y_1\\\\y_2\\\\ \\vdots \\\\ y_n\\end{bmatrix}-\\begin{bmatrix}f_1\\\\f_2\\\\ \\vdots \\\\ f_n\\end{bmatrix}}{n}+\\frac{\\alpha(\\begin{bmatrix}w_0\\\\w_1\\\\ \\vdots \\\\ w_D\\end{bmatrix}^T\\begin{bmatrix}w_0\\\\w_1\\\\ \\vdots \\\\ w_D\\end{bmatrix})}{2}\n",
    "$$"
   ]
  },
  {
   "cell_type": "markdown",
   "metadata": {},
   "source": [
    "## Optimising the objective function with respect to $\\mathbf{w}$\n",
    "\n",
    "There are two ways we can optimise the objective function with respect to $\\mathbf{w}$. The first one leads to a closed form expression for $\\mathbf{w}$ and the second one using an iterative optimisation procedure that updates the value of $\\mathbf{w}$ at each iteration by using the gradient of the objective function with respect to $\\mathbf{w}$,\n",
    "$$\n",
    "\\mathbf{w}_{\\text{new}} = \\mathbf{w}_{\\text{old}} - \\eta \\frac{d J(\\mathbf{w}, \\alpha)}{d\\mathbf{w}},\n",
    "$$\n",
    "where $\\eta$ is the *learning rate* parameter and $\\frac{d J(\\mathbf{w}, \\alpha)}{d\\mathbf{w}}$ is the gradient of the objective function.\n",
    "\n",
    "### Question 2: Derivative of $J(\\mathbf{w}, \\alpha)$ wrt $\\mathbf{w}$ (2 marks)\n",
    "\n",
    "Find the closed-form expression for $\\mathbf{w}$ by taking the derivative of $J(\\mathbf{w}, \\alpha)$ with respect to \n",
    "$\\mathbf{w}$, equating to zero and solving for $\\mathbf{w}$. Write the expression in matrix form. \n",
    "\n",
    "Also, write down the specific update rule for $\\mathbf{w}_{\\text{new}}$ by using the equation above."
   ]
  },
  {
   "cell_type": "markdown",
   "metadata": {},
   "source": [
    "#### Question 2 Answer\n",
    "\n",
    "Write your answer to the question in this box.\n",
    "\n",
    "\n",
    "From question 1， we have\n",
    "$$\n",
    "J(\\mathbf{w}, \\alpha) = \\frac{(\\mathbf{y} - \\mathbf{w}^{\\top}\\mathbf{x}_i)^\\top(\\mathbf{y} - \\mathbf{w}^{\\top}\\mathbf{x}_i)}{n}+\\frac{\\alpha(\\mathbf{w}^T\\mathbf{w})}{2}\n",
    "$$ \n",
    "$$\n",
    "= \\frac{\\mathbf{y}^{\\top}\\mathbf{y}-\\mathbf{y}^{\\top}\\mathbf{w}^{\\top}\\mathbf{x}-(\\mathbf{w}^{\\top}\\mathbf{x})^{\\top}y+(\\mathbf{w}^{\\top}\\mathbf{x})^{\\top}\\mathbf{w}^{\\top}\\mathbf{x}}{n}+\\frac{\\alpha(\\mathbf{w}^T\\mathbf{w})}{2}\n",
    "$$\n",
    "\n",
    "Now, take the derivative:\n",
    "$$\n",
    "\\frac{\\text{d}}{\\text{d}\\mathbf{w}}J(\\mathbf{w,α}) = \\frac{-\\mathbf{y}^{\\top}x -\\mathbf{x}^{\\top}\\mathbf{y}+\\mathbf{x}^{\\top}\\mathbf{w}^{\\top}\\mathbf{x}+\\mathbf{w}\\mathbf{x}^{\\top}\\mathbf{x}}{n}+{αw}\n",
    "$$\n",
    "$$\n",
    "=\\frac{-\\mathbf{y}^{\\top}\\mathbf{x} -\\mathbf{x}y^{\\top}+\\mathbf{x}^{\\top}\\mathbf{w}^{\\top}\\mathbf{x}+\\mathbf{w}^{\\top}\\mathbf{x}\\mathbf{x}^{\\top}}{n}+{αw}\n",
    "$$\n",
    "\n",
    "$$\n",
    "= \\frac{-2\\mathbf{y}^{\\top}\\mathbf{x}+2\\mathbf{w}^{\\top}\\mathbf{x}\\mathbf{x}^{\\top}}{n}+{αw}\n",
    "$$\n",
    "Final result:\n",
    "$$\n",
    "\\frac{\\text{d}}{\\text{d}\\mathbf{w}}J(\\mathbf{w,α})=\\frac{2}{n}\n",
    "[\\,-\\mathbf{y}^{\\top}\\mathbf{x}+\\mathbf{w}^{\\top}\\mathbf{x}\\mathbf{x}^{\\top}]\\,+{αw}\n",
    "$$\n",
    "\n",
    "equating to zero and solving for  𝐰:\n",
    "$$\n",
    "0=\\frac{2}{n}\n",
    "[\\,-\\mathbf{y}^{\\top}\\mathbf{x}+\\mathbf{w}^{\\top}\\mathbf{x}\\mathbf{x}^{\\top}]\\,+{αw}\n",
    "$$\n",
    "\n",
    "$$\n",
    "\\frac{2}{n}\\mathbf{w}\\mathbf{x}\\mathbf{x}^{\\top}+\\mathbf{α}\\mathbf{w}= \\frac{2}{n}*\\mathbf{y}^{\\top}\\mathbf{x}\n",
    "$$\n",
    "\n",
    "$$\n",
    "\\frac{2}{n}\\mathbf{w}(\\mathbf{x}\\mathbf{x}^{\\top}+Eα) = \\frac{2}{n}\\mathbf{y}^{\\top}\\mathbf{x}\n",
    "$$\n",
    "\n",
    "$$\n",
    "\\mathbf{w}= \\frac{\\frac{2}{n}\\mathbf{y}^{\\top}\\mathbf{x}}{\\frac{2}{n}(\\mathbf{x}\\mathbf{x}^{\\top}+Eα)}=\\frac{\\mathbf{y}^{\\top}\\mathbf{x}}{(\\mathbf{x}\\mathbf{x}^{\\top}+\\frac{n}{2}Eα)}\n",
    "$$\n",
    "\n",
    "$$\n",
    "\\mathbf{w}=  (\\mathbf{x}\\mathbf{x}^{\\top}+\\frac{n}{2}Eα)^{-1} * \\mathbf{x}^{\\top}\\mathbf{y}\n",
    "$$\n",
    "\n",
    "\n",
    "update rule for $\\mathbf{w}_{\\text{new}}$ :\n",
    "$$\n",
    "\\mathbf{w}_{\\text{new}} = \\mathbf{w}_{\\text{old}} - \\eta (\\frac{2}{n}\n",
    "[\\,-\\mathbf{x}^{\\top}\\mathbf{y}+\\mathbf{w}^{\\top}\\mathbf{x}\\mathbf{x}^{\\top}]\\,+{αw}),\n",
    "$$"
   ]
  },
  {
   "cell_type": "markdown",
   "metadata": {},
   "source": [
    "# Using ridge regression to predict air quality\n",
    "\n",
    "Our dataset comes from a popular machine learning repository that hosts open source datasets for educational and research purposes, the [UCI Machine Learning Repository](https://archive.ics.uci.edu/ml/index.php). We are going to use ridge regression for predicting air quality. The description of the dataset can be found [here](https://archive.ics.uci.edu/ml/datasets/Air+Quality)."
   ]
  },
  {
   "cell_type": "code",
   "execution_count": 1,
   "metadata": {},
   "outputs": [
    {
     "name": "stdout",
     "output_type": "stream",
     "text": [
      "Downloading  https://archive.ics.uci.edu/ml/machine-learning-databases/00360/AirQualityUCI.zip -> .\\AirQualityUCI.zip\n"
     ]
    },
    {
     "name": "stdout",
     "output_type": "stream",
     "text": [
      "[==========================    ]   1.320/1.472MB                                                                                                                                                                                                                                                                                                                                                                                                                                                                                                                                                                                                                                                                                                                                                                                                                                                                                                                                                                                                                                                                                                                                                                                                                                                                                                                                                                                                                                                                                                                                                                                                                                                                                                                                                                                                                                                                                                                                                                                                                                                                                                                                                                                                                                                                                                                                                                                                                                                                                                                                                                                                                                                                                                                                                                                                                                                                                                                                                                                                                                                                                                                                                                                                                                                                                                                                                                                                                                                                                                                                                                                                                                                                                                                                                                                                                                                                                                                                                                                                                                                                                                                                                                                                                                                                                                                                                                                                                                                                                                                                                                                                                                                                                                                                                                                                                                                                                                                                                                                                                                                                                                                                                                                                                                                                                                                                                                                                                                                                                                                                                                                                                                                                                                                                                                                                                                                                                                                                                                                                                                                                                                                                                                                                                                                                                                                                                                                                                                                                                                                                                                                                                                                                                                                                                                                                                                                                                                                                                                                                                                                                                                                                                                                                                                                                                                                                                                                                                                                                                                                                                                                                                                                                                                                                                                                                                                                                                                                                                                                                                                                                                                                                                                                                                                                                                                                                                                                                                                                \r",
      "[===========================   ]   1.328/1.472MB"
     ]
    },
    {
     "name": "stdout",
     "output_type": "stream",
     "text": [
      "[==============================]   1.472/1.472MB                                                                                                                                                                                                                                                                                                                                                                                                                                                                                                                                                                                                                                                                                                                                                                                                                                                                                                                                                \n"
     ]
    }
   ],
   "source": [
    "import pods\n",
    "pods.util.download_url('https://archive.ics.uci.edu/ml/machine-learning-databases/00360/AirQualityUCI.zip')\n",
    "import zipfile\n",
    "zip = zipfile.ZipFile('./AirQualityUCI.zip', 'r')\n",
    "for name in zip.namelist():\n",
    "    zip.extract(name, '.')"
   ]
  },
  {
   "cell_type": "code",
   "execution_count": 2,
   "metadata": {},
   "outputs": [],
   "source": [
    "# The .csv version of the file has some typing issues, so we use the excel version\n",
    "import pandas as pd \n",
    "air_quality = pd.read_excel('./AirQualityUCI.xlsx', usecols=range(2,15))"
   ]
  },
  {
   "cell_type": "markdown",
   "metadata": {},
   "source": [
    "We can see some of the rows in the dataset "
   ]
  },
  {
   "cell_type": "code",
   "execution_count": 3,
   "metadata": {},
   "outputs": [
    {
     "data": {
      "text/html": [
       "<div>\n",
       "<style scoped>\n",
       "    .dataframe tbody tr th:only-of-type {\n",
       "        vertical-align: middle;\n",
       "    }\n",
       "\n",
       "    .dataframe tbody tr th {\n",
       "        vertical-align: top;\n",
       "    }\n",
       "\n",
       "    .dataframe thead th {\n",
       "        text-align: right;\n",
       "    }\n",
       "</style>\n",
       "<table border=\"1\" class=\"dataframe\">\n",
       "  <thead>\n",
       "    <tr style=\"text-align: right;\">\n",
       "      <th></th>\n",
       "      <th>CO(GT)</th>\n",
       "      <th>PT08.S1(CO)</th>\n",
       "      <th>NMHC(GT)</th>\n",
       "      <th>C6H6(GT)</th>\n",
       "      <th>PT08.S2(NMHC)</th>\n",
       "      <th>NOx(GT)</th>\n",
       "      <th>PT08.S3(NOx)</th>\n",
       "      <th>NO2(GT)</th>\n",
       "      <th>PT08.S4(NO2)</th>\n",
       "      <th>PT08.S5(O3)</th>\n",
       "      <th>T</th>\n",
       "      <th>RH</th>\n",
       "      <th>AH</th>\n",
       "    </tr>\n",
       "  </thead>\n",
       "  <tbody>\n",
       "    <tr>\n",
       "      <th>8939</th>\n",
       "      <td>0.7</td>\n",
       "      <td>912.00</td>\n",
       "      <td>-200</td>\n",
       "      <td>2.042536</td>\n",
       "      <td>587.25</td>\n",
       "      <td>139.7</td>\n",
       "      <td>922.25</td>\n",
       "      <td>99.2</td>\n",
       "      <td>1002.25</td>\n",
       "      <td>825.50</td>\n",
       "      <td>7.675000</td>\n",
       "      <td>67.150000</td>\n",
       "      <td>0.707418</td>\n",
       "    </tr>\n",
       "    <tr>\n",
       "      <th>6987</th>\n",
       "      <td>2.4</td>\n",
       "      <td>1177.75</td>\n",
       "      <td>-200</td>\n",
       "      <td>7.217572</td>\n",
       "      <td>866.25</td>\n",
       "      <td>390.0</td>\n",
       "      <td>699.50</td>\n",
       "      <td>128.0</td>\n",
       "      <td>1341.50</td>\n",
       "      <td>1093.75</td>\n",
       "      <td>11.750000</td>\n",
       "      <td>82.674999</td>\n",
       "      <td>1.138069</td>\n",
       "    </tr>\n",
       "    <tr>\n",
       "      <th>4370</th>\n",
       "      <td>3.8</td>\n",
       "      <td>1253.75</td>\n",
       "      <td>-200</td>\n",
       "      <td>18.054085</td>\n",
       "      <td>1241.00</td>\n",
       "      <td>420.0</td>\n",
       "      <td>872.75</td>\n",
       "      <td>163.0</td>\n",
       "      <td>1462.75</td>\n",
       "      <td>1431.25</td>\n",
       "      <td>28.224999</td>\n",
       "      <td>24.825000</td>\n",
       "      <td>0.936030</td>\n",
       "    </tr>\n",
       "    <tr>\n",
       "      <th>1307</th>\n",
       "      <td>0.6</td>\n",
       "      <td>966.50</td>\n",
       "      <td>-200</td>\n",
       "      <td>2.900667</td>\n",
       "      <td>645.75</td>\n",
       "      <td>49.0</td>\n",
       "      <td>1116.75</td>\n",
       "      <td>47.0</td>\n",
       "      <td>1552.00</td>\n",
       "      <td>578.50</td>\n",
       "      <td>15.675000</td>\n",
       "      <td>80.500000</td>\n",
       "      <td>1.423567</td>\n",
       "    </tr>\n",
       "    <tr>\n",
       "      <th>9090</th>\n",
       "      <td>3.2</td>\n",
       "      <td>1610.50</td>\n",
       "      <td>-200</td>\n",
       "      <td>17.780185</td>\n",
       "      <td>1233.00</td>\n",
       "      <td>690.1</td>\n",
       "      <td>412.50</td>\n",
       "      <td>139.7</td>\n",
       "      <td>1686.50</td>\n",
       "      <td>1741.00</td>\n",
       "      <td>15.950000</td>\n",
       "      <td>67.900000</td>\n",
       "      <td>1.221696</td>\n",
       "    </tr>\n",
       "  </tbody>\n",
       "</table>\n",
       "</div>"
      ],
      "text/plain": [
       "      CO(GT)  PT08.S1(CO)  NMHC(GT)   C6H6(GT)  PT08.S2(NMHC)  NOx(GT)  \\\n",
       "8939     0.7       912.00      -200   2.042536         587.25    139.7   \n",
       "6987     2.4      1177.75      -200   7.217572         866.25    390.0   \n",
       "4370     3.8      1253.75      -200  18.054085        1241.00    420.0   \n",
       "1307     0.6       966.50      -200   2.900667         645.75     49.0   \n",
       "9090     3.2      1610.50      -200  17.780185        1233.00    690.1   \n",
       "\n",
       "      PT08.S3(NOx)  NO2(GT)  PT08.S4(NO2)  PT08.S5(O3)          T         RH  \\\n",
       "8939        922.25     99.2       1002.25       825.50   7.675000  67.150000   \n",
       "6987        699.50    128.0       1341.50      1093.75  11.750000  82.674999   \n",
       "4370        872.75    163.0       1462.75      1431.25  28.224999  24.825000   \n",
       "1307       1116.75     47.0       1552.00       578.50  15.675000  80.500000   \n",
       "9090        412.50    139.7       1686.50      1741.00  15.950000  67.900000   \n",
       "\n",
       "            AH  \n",
       "8939  0.707418  \n",
       "6987  1.138069  \n",
       "4370  0.936030  \n",
       "1307  1.423567  \n",
       "9090  1.221696  "
      ]
     },
     "execution_count": 3,
     "metadata": {},
     "output_type": "execute_result"
    }
   ],
   "source": [
    "air_quality.sample(5)"
   ]
  },
  {
   "cell_type": "markdown",
   "metadata": {},
   "source": [
    "The target variable corresponds to the CO(GT) variable of the first column. The following columns correspond to the variables in the feature vectors, *e.g.*, PT08.S1(CO) is $x_1$ up until AH which is $x_D$. The original dataset also has a date and a time columns that we are not going to use in this assignment.\n",
    "\n",
    "Before designing our predictive model, we need to think about three stages: the preprocessing stage, the training stage and the validation stage. The three stages are interconnected and *it is important to remember that the testing data that we use for validation has to be set aside before preprocessing*. Any preprocessing that you do has to be done only on the training data and several key statistics need to be saved for the test stage.\n",
    "\n",
    "Separating the dataset into training and test before any preprocessing has happened help us to recreate the real world scenario where we will deploy our system and for which the data will come without any preprocessing.\n",
    "\n",
    "We are going to use *hold-out validation* for testing our predictive model so we need to separate the dataset into a training set and a test set.\n",
    "\n",
    "### Question 3: Splitting the dataset (1 mark)\n",
    "\n",
    "Split the dataset into a training set and a test set. The training set should have 70% of the total observations and the test set, the 30%. For making the random selection make sure that you use a random seed that corresponds to the last five digits of your student UCard. Make sure that you comment your code.\n",
    "\n",
    "#### Question 3 Answer"
   ]
  },
  {
   "cell_type": "code",
   "execution_count": 4,
   "metadata": {
    "scrolled": true
   },
   "outputs": [
    {
     "name": "stdout",
     "output_type": "stream",
     "text": [
      "(6549, 13)\n",
      "(2808, 13)\n"
     ]
    }
   ],
   "source": [
    "# Write your code here\n",
    "import numpy as np\n",
    "import random\n",
    "\n",
    "#Setting a random seed for shuffling the data\n",
    "StudentID = 27624\n",
    "np.random.seed(StudentID)\n",
    "\n",
    "#Shuffling the data\n",
    "random_air_quality = air_quality.sample(frac=1,random_state = StudentID)\n",
    "\n",
    "\n",
    "#Spliting the data\n",
    "train_data = random_air_quality.iloc[:int(random_air_quality.shape[0]*0.7)]\n",
    "print(train_data.shape)\n",
    "test_data = random_air_quality.iloc[int(random_air_quality.shape[0]*0.7):]\n",
    "print(test_data.shape)\n",
    "\n",
    "\n"
   ]
  },
  {
   "cell_type": "code",
   "execution_count": null,
   "metadata": {},
   "outputs": [],
   "source": []
  },
  {
   "cell_type": "markdown",
   "metadata": {},
   "source": [
    "## Preprocessing the data\n",
    "\n",
    "The dataset has missing values tagged with a -200 value. Before doing any work with the training data, we want to make sure that we deal properly with the missing values. \n",
    "\n",
    "### Question 4: Missing values (3 marks)\n",
    "\n",
    "Make some exploratory analysis on the number of missing values per column in the training data. \n",
    "\n",
    "* Remove the rows for which the target feature has missing values. We are doing supervised learning so we need all our data observations to have known target values.\n",
    "\n",
    "* Remove features with more than 20% of missing values. For all the other features with missing values, use the mean value of the non-missing values for imputation.\n",
    "\n",
    "#### Question 4 Answer"
   ]
  },
  {
   "cell_type": "code",
   "execution_count": 5,
   "metadata": {},
   "outputs": [
    {
     "name": "stdout",
     "output_type": "stream",
     "text": [
      "Int64Index([3958,  971,  598, 3493, 5301, 2650, 4923, 5323, 7649, 4238,\n",
      "            ...\n",
      "            7547, 3494, 7546, 3839,  590, 3551, 5018, 7080, 4448, 3379],\n",
      "           dtype='int64', length=1174)\n",
      "(5375, 13)\n"
     ]
    }
   ],
   "source": [
    "# Write your code here\n",
    "print(train_data[train_data['CO(GT)']== -200].index)\n",
    "# Remove the rows for which the target feature has missing values.\n",
    "train_data =train_data.drop(train_data[train_data['CO(GT)']== -200].index)\n",
    "\n",
    "print(train_data.shape)\n",
    "\n"
   ]
  },
  {
   "cell_type": "code",
   "execution_count": 6,
   "metadata": {},
   "outputs": [
    {
     "name": "stdout",
     "output_type": "stream",
     "text": [
      "12\n",
      "11\n",
      "10\n",
      "9\n",
      "8\n",
      "7\n",
      "6\n",
      "5\n",
      "4\n",
      "3\n",
      "2\n",
      "1\n"
     ]
    }
   ],
   "source": [
    "# Remove features with more than 20% of missing values in train data\n",
    "for i in range(len(train_data.columns)-1,0,-1):\n",
    "    \n",
    "    #calculating number of missing value \n",
    "    num_missing_value = len(train_data[train_data.columns[i]][train_data[train_data.columns[i]]== -200])\n",
    "    num_of_value = train_data.shape[0]\n",
    "    \n",
    "    #calculating percentage of missing value\n",
    "    missing_percentage = float(num_missing_value/num_of_value)\n",
    "    \n",
    "    \n",
    "    if missing_percentage > 0.2:            #drop the column which has percentage of train_data over 20%\n",
    "        column_removed = train_data.columns[i]\n",
    "        train_data = train_data.drop(train_data.columns[i], axis= 1)\n",
    "\n",
    "# replacing missing value\n",
    "for i in range(len(train_data.columns)-1,0,-1):\n",
    "    #calculate mean value of each column:\n",
    "    mean_value = train_data[train_data.columns[i]][train_data[train_data.columns[i]] != -200].mean()\n",
    "    \n",
    "    #Replace the missing value with mean value\n",
    "    train_data[train_data.columns[i]]= train_data[train_data.columns[i]].replace(-200, mean_value)\n",
    "\n"
   ]
  },
  {
   "cell_type": "markdown",
   "metadata": {},
   "source": [
    "### Question 5: Normalising the training data (2 marks)\n",
    "\n",
    "Now that you have removed the missing data, we need to normalise the input vectors. \n",
    "\n",
    "* Explain in a sentence why do you need to normalise the input features for this dataset.\n",
    "\n",
    "* Normalise the training data by substracting the mean value for each feature and dividing the result by the standard deviation of each feature. Keep the mean values and standard deviations, you will need them at test time.\n",
    "\n",
    "#### Question 5 Answer\n",
    "\n",
    "Write your explanation in this box"
   ]
  },
  {
   "cell_type": "markdown",
   "metadata": {},
   "source": [
    "The reason we have to normalise the input features because the data in features are in different ranges and we need to change the values of numeric columns in the dataset to a common scale, without distorting differences in the ranges of values."
   ]
  },
  {
   "cell_type": "code",
   "execution_count": 7,
   "metadata": {},
   "outputs": [],
   "source": [
    "\n",
    "mean_list = []\n",
    "std_list = []\n",
    "\n",
    "\n",
    "# Normalise the training data\n",
    "for i in range(1,len(train_data.columns)):\n",
    "    \n",
    "    #calculate mean value of each column:\n",
    "    mean_value = train_data[train_data.columns[i]].mean()\n",
    "    mean_list.append(mean_value)\n",
    "    \n",
    "    #calculate stand deviation for each column\n",
    "    std_value = train_data[train_data.columns[i]].std()\n",
    "    std_list.append(std_value)\n",
    "    \n",
    "    train_data[train_data.columns[i]]= (train_data[train_data.columns[i]]-mean_value)/std_value\n",
    "    \n"
   ]
  },
  {
   "cell_type": "markdown",
   "metadata": {},
   "source": [
    "## Training and validation stages\n",
    "\n",
    "We have now curated our training data by removing data observations and features with a large amount of missing values. We have also normalised the feature vectors. We are now in a good position to work on developing the prediction model and validating it. We will use both the closed form expression for $\\mathbf{w}$ and gradient descent for iterative optimisation. \n",
    "\n",
    "We first organise the dataframe into the vector of targets $\\mathbf{y}$ and the design matrix $\\mathbf{X}$."
   ]
  },
  {
   "cell_type": "code",
   "execution_count": 8,
   "metadata": {},
   "outputs": [
    {
     "name": "stdout",
     "output_type": "stream",
     "text": [
      "(5375, 11)\n",
      "(5375, 1)\n",
      "[[ 1.          0.60447519  0.22618622 ...  1.07545441 -1.60840637\n",
      "  -0.5806928 ]\n",
      " [ 1.         -0.28125928 -0.72497085 ... -0.73020643  0.72191095\n",
      "  -0.41103358]\n",
      " [ 1.         -0.73627306 -0.3358429  ...  0.1181553   0.62623812\n",
      "   0.74522054]\n",
      " ...\n",
      " [ 1.         -1.69180202 -1.26067093 ... -0.58752739  1.32035439\n",
      "   0.14448493]\n",
      " [ 1.         -1.00581089 -0.90210968 ...  0.80937735  0.56180542\n",
      "   2.07893951]\n",
      " [ 1.          3.29059896  2.89763141 ... -0.48341026  0.56912732\n",
      "  -0.20307813]]\n"
     ]
    }
   ],
   "source": [
    "# Write your code here to get y and X\n",
    "x = train_data.iloc[:, 1:].values\n",
    "y = train_data.iloc[:, :1].values\n",
    "\n",
    "\n",
    "\n",
    "#creating design matrix\n",
    "ones = np.ones_like(train_data.iloc[:,0])\n",
    "X = np.insert(x,0,ones,axis= 1)\n",
    "\n",
    "print(x.shape)\n",
    "\n",
    "print(y.shape)\n",
    "\n",
    "print(X)\n"
   ]
  },
  {
   "cell_type": "markdown",
   "metadata": {},
   "source": [
    "### Question 6: training with closed form expression for $\\mathbf{w}$ (3 marks)\n",
    "\n",
    "To find the optimal value of $\\mathbf{w}$ using the closed form expression that you derived before, we need to know the value of the regularisation parameter $\\alpha$ in advance. We will determine the value by using part of the training data for finding the parameters $\\mathbf{w}$ and another part of the training data to choose the best $\\alpha$ from a set of predefined values.\n",
    "\n",
    "* Use `np.logspace(start, stop, num)` to create a set of values for $\\alpha$ in log scale. Use the following parameters `start=-3`, `stop=2` and `num=20`. \n",
    "\n",
    "* Randomly split the training data into what is properly called the training set and the validation set. As before, make sure that you use a random seed that corresponds to the last five digits of your student UCard. Use 70% of the data for the training set and 30% of the data for the validation set.\n",
    "\n",
    "* For each value that you have for $\\alpha$ from the previous step, use the training set to compute $\\mathbf{w}$ and then measure the mean-squared error (MSE) over the validation data. After this, you will have `num=20` MSE values. Choose the value of $\\alpha$ that leads to the lower MSE and save it. You will use it at the test stage.\n",
    "\n",
    "* What was the best value of $\\alpha$? Is there any explanation for that?\n",
    "\n",
    "#### Question 6 Answer"
   ]
  },
  {
   "cell_type": "code",
   "execution_count": 25,
   "metadata": {
    "scrolled": false
   },
   "outputs": [
    {
     "name": "stdout",
     "output_type": "stream",
     "text": [
      "(3762, 12)\n",
      "(3762, 1)\n",
      "0.001\n"
     ]
    }
   ],
   "source": [
    "# Write your code here\n",
    "#setting up logspace\n",
    "α = np.logspace(start= -3, stop= 2, num= 20)\n",
    "\n",
    "#setting up random seed\n",
    "StudentID = 27624\n",
    "\n",
    "np.random.seed(StudentID)\n",
    "\n",
    "#Shuffling the data\n",
    "x_= X.copy()\n",
    "y_= y.copy()\n",
    "np.random.shuffle(x_)\n",
    "np.random.shuffle(y_)\n",
    "\n",
    "\n",
    "#Spliting the data for train and validation\n",
    "X_t_data = x_[:int(x_.shape[0]*0.7)]\n",
    "X_v_data = x_[int(x_.shape[0]*0.7):]\n",
    "\n",
    "y_t_data = y_[:int(y_.shape[0]*0.7)]\n",
    "y_v_data = y_[int(y_.shape[0]*0.7):]\n",
    "\n",
    "print(X_t_data.shape)\n",
    "print(y_t_data.shape)\n",
    "\n",
    "\n",
    "w_list = []\n",
    "MSE_list = []\n",
    "\n",
    "#calulating w and MSE for each α\n",
    "X_X_T = np.dot(X_t_data.transpose(), X_t_data)\n",
    "E = np.eye(X_X_T.shape[0])\n",
    "                    \n",
    "for i in range(0,len(α)):\n",
    "    w = np.dot(np.dot(np.linalg.inv(X_X_T+np.dot(1/2*α[i]*X_t_data.shape[0],E)),X_t_data.transpose()),y_t_data)\n",
    "    WT_X = np.dot(X_v_data,w)\n",
    "    MSE = np.mean(np.square(y_v_data-WT_X))\n",
    "    MSE_list.append(MSE)\n",
    "\n",
    "#choose α value for the least MSE value\n",
    "α_least = α[MSE_list.index(min(MSE_list))]\n",
    "\n",
    "print(α_least)\n",
    "\n",
    "    \n"
   ]
  },
  {
   "cell_type": "code",
   "execution_count": 27,
   "metadata": {},
   "outputs": [
    {
     "data": {
      "text/plain": [
       "(1613, 1)"
      ]
     },
     "execution_count": 27,
     "metadata": {},
     "output_type": "execute_result"
    }
   ],
   "source": [
    "y_v_data.shape"
   ]
  },
  {
   "cell_type": "code",
   "execution_count": 29,
   "metadata": {},
   "outputs": [
    {
     "data": {
      "text/plain": [
       "(1613, 1)"
      ]
     },
     "execution_count": 29,
     "metadata": {},
     "output_type": "execute_result"
    }
   ],
   "source": [
    "WT_X.shape"
   ]
  },
  {
   "cell_type": "markdown",
   "metadata": {},
   "source": [
    "\n",
    "The best value of α is 0.001. This model has only 12 variable and it's linear. Since we calucalted the least MSE, this shows the model got the best fit and that's why we choose the α."
   ]
  },
  {
   "cell_type": "markdown",
   "metadata": {},
   "source": [
    "### Question 7: validation with the closed form expression for $\\mathbf{w}$ (2 marks)\n",
    "\n",
    "We are going to deal now with the test data to perform the validation of the model. Remember that the test data might also contain missing values in the target variable and in the input features.\n",
    "\n",
    "* Remove the rows of the test data for which the labels have missing values. \n",
    "* If you remove any feature at the training stage, you also need to remove the same features from the test stage.\n",
    "* Replace the missing values on each feature variables with the mean value you computed in the training data.\n",
    "* Normalise the test data using the means and standard deviations computed from the training data\n",
    "* Compute again $\\mathbf{w}$ for the value of $\\alpha$ that best performed on the validation set using ALL the training data (not all the training set).\n",
    "* Report the MSE on the preprocessed test data and an histogram with the absolute error.\n",
    "* Does the regularisation have any effect on the model? Explain your answer.\n",
    "\n",
    "#### Question 7 Answer"
   ]
  },
  {
   "cell_type": "code",
   "execution_count": 23,
   "metadata": {},
   "outputs": [
    {
     "name": "stdout",
     "output_type": "stream",
     "text": [
      "(12, 1)\n",
      "(2299, 1)\n"
     ]
    },
    {
     "ename": "ValueError",
     "evalue": "operands could not be broadcast together with shapes (5375,1) (2299,1) ",
     "output_type": "error",
     "traceback": [
      "\u001b[1;31m---------------------------------------------------------------------------\u001b[0m",
      "\u001b[1;31mValueError\u001b[0m                                Traceback (most recent call last)",
      "\u001b[1;32m<ipython-input-23-3caaf7cbc485>\u001b[0m in \u001b[0;36m<module>\u001b[1;34m\u001b[0m\n\u001b[0;32m     17\u001b[0m \u001b[0mWT_X_v\u001b[0m \u001b[1;33m=\u001b[0m \u001b[0mnp\u001b[0m\u001b[1;33m.\u001b[0m\u001b[0mdot\u001b[0m\u001b[1;33m(\u001b[0m\u001b[0mtest_data\u001b[0m\u001b[1;33m,\u001b[0m\u001b[0mw\u001b[0m\u001b[1;33m)\u001b[0m\u001b[1;33m\u001b[0m\u001b[1;33m\u001b[0m\u001b[0m\n\u001b[0;32m     18\u001b[0m \u001b[0mprint\u001b[0m\u001b[1;33m(\u001b[0m\u001b[0mWT_X_v\u001b[0m\u001b[1;33m.\u001b[0m\u001b[0mshape\u001b[0m\u001b[1;33m)\u001b[0m\u001b[1;33m\u001b[0m\u001b[1;33m\u001b[0m\u001b[0m\n\u001b[1;32m---> 19\u001b[1;33m \u001b[0mMSE_v\u001b[0m \u001b[1;33m=\u001b[0m \u001b[0mnp\u001b[0m\u001b[1;33m.\u001b[0m\u001b[0mmean\u001b[0m\u001b[1;33m(\u001b[0m\u001b[0mnp\u001b[0m\u001b[1;33m.\u001b[0m\u001b[0msquare\u001b[0m\u001b[1;33m(\u001b[0m\u001b[0my\u001b[0m\u001b[1;33m-\u001b[0m\u001b[0mWT_X_v\u001b[0m\u001b[1;33m)\u001b[0m\u001b[1;33m)\u001b[0m\u001b[1;33m\u001b[0m\u001b[1;33m\u001b[0m\u001b[0m\n\u001b[0m",
      "\u001b[1;31mValueError\u001b[0m: operands could not be broadcast together with shapes (5375,1) (2299,1) "
     ]
    }
   ],
   "source": [
    "# Write your code here\n",
    "# mean_list = []\n",
    "# std_list = []\n",
    "\n",
    "if column_removed in test_data.columns:\n",
    "    test_data = test_data.drop(column_removed, axis= 1)\n",
    "test_data = test_data.drop(test_data[test_data['CO(GT)']== -200].index)\n",
    "\n",
    "# Normalise the test data    \n",
    "for i in range(1,len(test_data.columns)):\n",
    "    test_data[test_data.columns[i]]= (test_data[test_data.columns[i]]-mean_list[i-1])/std_list[i-1]\n",
    "\n",
    "X_X_T = np.dot(X.transpose(), X)\n",
    "E = np.eye(X_X_T.shape[0])\n",
    "w = np.dot(np.dot(np.linalg.inv(X_X_T+np.dot(1/2*α_least*test_data.shape[0],E)),X.transpose()),y)\n",
    "print(w.shape)\n",
    "WT_X_v = np.dot(test_data,w)\n",
    "print(WT_X_v.shape)\n",
    "MSE_v = np.mean(np.square(y-WT_X_v))"
   ]
  },
  {
   "cell_type": "code",
   "execution_count": 11,
   "metadata": {},
   "outputs": [
    {
     "data": {
      "text/plain": [
       "6.538622066655455"
      ]
     },
     "execution_count": 11,
     "metadata": {},
     "output_type": "execute_result"
    }
   ],
   "source": [
    "MSE_v"
   ]
  },
  {
   "cell_type": "markdown",
   "metadata": {},
   "source": [
    "Write the explanation to your answer here."
   ]
  },
  {
   "cell_type": "markdown",
   "metadata": {},
   "source": [
    "## Question 8: training with gradient descent and validation (5 marks)\n",
    "\n",
    "\n",
    "Use gradient descent to iteratively compute the value of $\\mathbf{w}_{\\text{new}}$. Instead of using all the training set to compute the gradient, use a subset of $B$ datapoints in the training set. This is sometimes called minibatch gradient descent where $B$ is the size of the minibacth. When using gradient descent with minibatches, you need to find the best values for three parameters: $\\eta$, the learning rate, $B$, the number of datapoints in the minibatch and $\\alpha$, the regularisation parameter.\n",
    "\n",
    "* As you did on Question 6, create a grid of values for the parameters $\\alpha$ and $\\eta$ using `np.logspace` and a grid of values for $B$ using np.linspace. Because you need to find \n",
    " three parameters, start with `num=5` and see if you can increase it.\n",
    "\n",
    "* Use the same training set and validation set that you used in Question 6.\n",
    "\n",
    "* For each value that you have of $\\alpha$, $\\eta$ and $B$ from the previous step, use the training set to compute $\\mathbf{w}$ using minibatch gradient descent and then measure the MSE over the validation data. For the minibatch gradient descent choose to stop the iterative procedure after $500$ iterations.\n",
    "\n",
    "* Choose the values of $\\alpha$, $\\eta$ and $B$ that lead to the lower MSE and save them. You will use them at the test stage.\n",
    "\n",
    "*3 marks of out of the 5 marks*\n",
    "\n",
    "\n",
    "* Use the test set from Question 7 and provide the MSE obtained by having used minibatch training with the best values for $\\alpha$, $\\eta$ and $B$ over the WHOLE training data (not only the training set).\n",
    "\n",
    "* Compare the performance of the closed form solution and the minibatch solution. Are the performances similar? Are the parameters $\\mathbf{w}$ and $\\alpha$ similar in both approaches? Please comment on both questions.\n",
    "\n",
    "*2 marks of out of the 5 marks*\n",
    "\n",
    "#### Question 8 Answer"
   ]
  },
  {
   "cell_type": "code",
   "execution_count": 12,
   "metadata": {},
   "outputs": [],
   "source": [
    "# Write the code for your answer here"
   ]
  },
  {
   "cell_type": "markdown",
   "metadata": {},
   "source": [
    "Write the answer to your last question here."
   ]
  }
 ],
 "metadata": {
  "kernelspec": {
   "display_name": "Python 3",
   "language": "python",
   "name": "python3"
  },
  "language_info": {
   "codemirror_mode": {
    "name": "ipython",
    "version": 3
   },
   "file_extension": ".py",
   "mimetype": "text/x-python",
   "name": "python",
   "nbconvert_exporter": "python",
   "pygments_lexer": "ipython3",
   "version": "3.7.3"
  }
 },
 "nbformat": 4,
 "nbformat_minor": 2
}
