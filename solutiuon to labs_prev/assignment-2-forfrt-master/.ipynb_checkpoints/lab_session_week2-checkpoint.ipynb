{
 "cells": [
  {
   "cell_type": "markdown",
   "metadata": {},
   "source": [
    "# Objective Functions: A Simple Example with Matrix Factorisation.\n",
    "\n",
    "### 6th October 2015 Neil D. Lawrence\n",
    "\n",
    "### Modified by Mauricio A Álvarez, 1st October 2018\n",
    "\n",
    "In last week's class we saw how we could load in a data set to pandas and use it for some simple data processing. We computed various probabilities on the data and I encouraged you to think about what sort of probabilities you need for prediction. This week we are going to take a slightly different tack. \n",
    "\n",
    "Broadly speaking there are two dominating approaches to machine learning problems. We started to consider the first approach last week: constructing models based on defining the relationship between variables using probabilities. This week we will consider the second approach: which involves defining an *objective function* and optimizing it. \n",
    "\n",
    "What do we mean by an objective function? An objective function could be an *error function*, a *cost function* or a *benefit* function. In evolutionary computing they are called *fitness* functions. But the idea is always the same. We write down a mathematical equation which is then optimized to do the learning. The equation should be a function of the *data* and our model *parameters*. We have a choice when optimizing, either minimize or maximize. To avoid confusion, in the optimization field, we always choose to minimize the function. If we have a function that we would like to maximize, we simply choose to minimize the negative of that function. \n",
    "\n",
    "So for this lab session, we are going to ignore probabilities, but don't worry, they will return! \n",
    "\n",
    "This week we are going to try and build a simple movie recommender system using an objective function. To do this, the first thing I'd like you to do is to install some software we've written for sharing information across google documents.\n",
    "\n",
    "## Open Data Science Software\n",
    "\n",
    "In Sheffield we have written a suite of software tools for 'Open Data Science'. Open data science is an approach to sharing code, models and data that should make it easier for companies, health professionals and scientists to gain access to data science techniques. For some background on open data science you can read [this blog post](http://inverseprobability.com/2014/07/01/open-data-science/). The first thing we will do this week is to download that suite of software. \n",
    "\n",
    "The software can be installed using\n",
    "\n",
    "```python\n",
    "pip install pods\n",
    "```\n",
    "\n",
    "from the command prompt where you can access your python installation.\n",
    "\n",
    "\n",
    "## Download the MovieLens 100k Data\n",
    "\n",
    "We are going to download the [MovieLens 100k](http://files.grouplens.org/datasets/movielens/ml-latest-small-README.html) Data. This is a public dataset that contains 100,000 ratings and 3,600 tag applications applied to 9,000 movies by 600 users. When you use a data set that someone has prepared you should always reference the data source to acknowledge the work that's been placed in. This particular dataset was collected by the [Grouplens Research group](https://grouplens.org/),  at the University of Minnesota. For example, if you were to use this dataset for writing a paper, the authors ask you that you acknowledge their work by citing the following paper:\n",
    "\n",
    "F. Maxwell Harper and Joseph A. Konstan. 2015. The MovieLens Datasets: History and Context. ACM Transactions on Interactive Intelligent Systems (TiiS) 5 (4):1-19 [https://doi.org/10.1145/2827872](https://doi.org/10.1145/2827872)"
   ]
  },
  {
   "cell_type": "code",
   "execution_count": 1,
   "metadata": {},
   "outputs": [
    {
     "name": "stdout",
     "output_type": "stream",
     "text": [
      "Downloading  http://files.grouplens.org/datasets/movielens/ml-latest-small.zip -> .\\ml-latest-small.zip\n",
      "[==============================]   0.933/0.933MB                                                                                                                                                                                                                                                                                                                                                                                                                                                                                                                                                                                                                                                                                                                                                                                                                                                                                                                                                                                                                                                                                                                                                                                                                                                                                                                                                                                                                                                                                                                                                                                                                                                                                                                                                                                                                                                                                                                                                                                                                                                                                                                                                                                                                                                                                                                                                                                                                                                                                                                                                                                                                                                                                                                                                                                                                                                                                                                                                                                                                                                                                                                                                                                                                                                                                                                                                                                                                                                                                                                                                                                                                                                                                                                                                                                                                                                                                                                                                                                                                                                                                                                                                                                                                                                                                                                                                                                                                                                                                                                                                                                                                                                                                                                                                                                                                                                                                                                                                                                                                                                                                                                                                                                                                                                                                                                                                                                                                                                                                                                                                                                                                                                                                                                                                                                                                                                                                                                                                                                                \n"
     ]
    }
   ],
   "source": [
    "import pods\n",
    "import zipfile\n",
    "import sys\n",
    "import pandas as pd\n",
    "import numpy as np\n",
    "\n",
    "pods.util.download_url(\"http://files.grouplens.org/datasets/movielens/ml-latest-small.zip\")\n",
    "zip_console = zipfile.ZipFile('ml-latest-small.zip', 'r')\n",
    "for name in zip_console.namelist():\n",
    "           zip_console.extract(name, './')"
   ]
  },
  {
   "cell_type": "markdown",
   "metadata": {},
   "source": [
    "### Assignment Question 1\n",
    "\n",
    "Data ethics. If you find data available on the internet, can you simply use it without consequence? If you are given data by a fellow researcher can you publish that data on line? \n",
    "\n",
    "*5 marks*"
   ]
  },
  {
   "cell_type": "markdown",
   "metadata": {},
   "source": [
    "#### Question 1 Answer\n",
    "\n",
    "> Data ethics. If you find data available on the internet, can you simply use it without consequence?\n",
    "\n",
    "I think it depends. \n",
    "    \n",
    "In most cases, we cann't just use if without necessary payment or declaration. From the perspective of fairness, upon the data that cost the producer great effort could make great profit. It's not fair to use the means of production without any cost. And from the perspective of personal property, use things that doesn't belong to you violate the property rights which is also the fundamental element of modern society.\n",
    "    \n",
    "However, with the influence of open source activity, more and more data are shared freely to different extend. As long as the users don't violate the license of their referenced data, they can simply use it without any consequence. There even exists a license call WTFPL (Do What the Fuck You Want To Public License) that literally allows you do use or distribute the work under any term.\n",
    "\n",
    "> If you are given data by a fellow researcher can you publish that data on line?\n",
    "\n",
    "I would first ask them for their consent and cite their paper properly at their request. Without such agreement, I will not publish that data. "
   ]
  },
  {
   "cell_type": "markdown",
   "metadata": {},
   "source": [
    "## Recommender Systems\n",
    "\n",
    "A recommender system aims to make suggestions for items (films, books, other commercial products) given what it knows about users' tastes. The recommendation engine needs to represent the *taste* of all the users and the *characteristics* of each object. \n",
    "\n",
    "A common way for organizing objects is to place related objects spatially close together. For example in a library we try and put books that are on related topics near to each other on the shelves. One system for doing this is known as [Dewey Decimal Classification](http://en.wikipedia.org/wiki/Dewey_Decimal_Classification). In the Dewey Decimal Classification system (which dates from 1876) each subject is given a number (in fact it's a decimal number). For example, the field of Natural Sciences and Mathematics is given numbers which start with 500. Subjects based on Computer Science are given numbers which start 004 and works on the 'mathematical principles' of Computer science are given the series 004.0151 (which we might store as 4.0151 on a Computer). Whilst it's a classification system, the books in the library are typically laid out in the same order as the numbers, so we might expect that neighbouring numbers represent books that are related in subject. That seems to be exactly what we want when also representing films. Could we somehow represent each film's subject according to a number? In a similar way we could then imagine representing users with a list of numbers that represent things that each user is interested in.\n",
    "\n",
    "Actually a one dimensional representation of a subject can be very awkward. To see this, let's have a look at the Dewey Decimal Classification numbers for the 900s, which is listed as 'History and Geography'. We will focus on subjects in the 940s which can be found in this list from [Wikipedia](https://en.wikipedia.org/wiki/List_of_Dewey_Decimal_classes#Class_900_%E2%80%93_History_&_geography). Whilst the ordering for places is somewhat sensible, it is also rather arbitrary. In the 940s we have Europe listed from 940-949, Asia listed from 950-959 and Africa listed from 960-969. Whilst it's true that Asia borders Europe, Africa is also very close, and the history of the Roman Empire spreads into [Carthage](http://en.wikipedia.org/wiki/Carthage) and later on Egypt. This image from Wikipedia shows a map of the Cathaginian Empire which fell after fighting with Rome. \n",
    "\n",
    "\n",
    "<a title=\"By Javierfv1212 [Public domain], from Wikimedia Commons\" href=\"https://commons.wikimedia.org/wiki/File:Carthaginianempire.PNG\"><img width=\"512\" alt=\"Carthaginianempire\" src=\"https://upload.wikimedia.org/wikipedia/commons/thumb/9/9b/Carthaginianempire.PNG/512px-Carthaginianempire.PNG\"></a>\n",
    "\n",
    "We now need to make a decision about whether Roman Histories are European or African, ideally we'd like them to be somewhere between the two, but we can't place them there in the Dewey Decimal system because between Europe and Africa is Asia, which has less to do with the Roman Empire than either Europe or Africa. Of course the fact that we've used a map provides a clue as to what to do next. Libraries are actually laid out on floors, so what if we were to use the spatial lay out to organise the sujbects of the books in two dimensions. Books on Geography could be laid out according to where in the world they are referring to. \n",
    "\n",
    "Such complexities are very hard to encapsulate in one number, but inspired by the map examples we can start considering how we might lay out films in two dimensions. Similarly, we can consider laying out a map of people's interests. If the two maps correspond to one another, the map of people could reflect where they might want to live in 'subject space'. We can think of representing people's tastes as where they might best like to sit in the library to access easily the books they are most interested in.\n",
    "\n",
    "\n",
    "## Inner Products for Representing Similarity\n",
    "\n",
    "Ideas like the above are good for gaining intuitions about what we might want, but the one of the skills of data science is representing those ideas mathematically. Mathematical abstraction of a problem is one of the key ways in which we've been able to progress as a society. Understanding planetary motions, as well as those of the smallest molecule (to quote Laplace's [Philosophical Essay on Probabilities](http://books.google.co.uk/books?id=1YQPAAAAQAAJ&printsec=frontcover&source=gbs_ge_summary_r&cad=0#v=onepage&q&f=false)) needed to be done mathematically. The right mathematical model in machine learning can be slightly more elusive, because constructing it is a two stage process. \n",
    "\n",
    "1. We have to determine the right intuition for the system we want to represent. Notions such as 'subject' and 'interest' are not mathematically well defined, and even when we create a new interpretation of what they might mean, each interpretation may have its own weaknesses. \n",
    "\n",
    "2. Once we have our interpretation we can attempt to mathematically formalize it. In our library interpretation, that's what we need to do next. \n",
    "\n",
    "### The Library on an Infinite Plane\n",
    "\n",
    "Let's imagine a library which stores all the items  we are interested in, not just books, but films and shopping items too. Such a library is likely to be very large, so we'll create it on an infinite two dimensional plane. This means we can use all the real numbers to represent the location of each item on the plane. For a two dimensional plane, we need to store the locations in a vector of numbers: we can decide that the $j$th item's location in the library is given by \n",
    "$$\n",
    "\\mathbf{v}_j = \\begin{bmatrix} v_{j,1} \\\\ v_{j,2}\\end{bmatrix},\n",
    "$$\n",
    "where $v_{j,1}$ represents the $j$th item's location in the East-West direction (or the $x$-axis) and $v_{j,2}$ represents the $j$th item's location in the North-South direction (or the $y$-axis). Now we need to specify the location where each user sits so that all the items that interest them are nearby: we can also represent the $i$th user's location with a vector \n",
    "$$\n",
    "\\mathbf{u}_i = \\begin{bmatrix} u_{i,1} \\\\ u_{i,2}\\end{bmatrix}.\n",
    "$$\n",
    "Finally, we need some way of recording a given user's affinity for a given item. This affinity might be the rating that the user gives the film. We can use $y_{i,j}$ to represent user $i$'s affinity for item $j$. \n",
    "\n",
    "For our film example we might imagine wanting to order films in a few ways. We could imagine organising films in the North-South direction as to how romantic they are. We could place the more romantic films further North and the less romantic films further South. For the East-West direction we could imagine ordering them according to how historic they are: we can imagine placing science fiction films to the East and historical drama to the West. In this case, fans of historical romances would be based in the North-West location, whilst fans of Science Fiction Action films might be located in the South-East (if we assume that 'Action' is the opposite of 'Romance', which is not necessarily the case). How do we lay out all these films? Have we got the right axes? In machine learning the answer is to 'let the data speak'. Use the data to try and obtain such a lay out. To do this we first need to obtain the data."
   ]
  },
  {
   "cell_type": "markdown",
   "metadata": {},
   "source": [
    "## Obtaining the Data\n",
    "\n",
    "As mentioned before, the MovieLens dataset that we'll use has 100,000 ratings to 9,000 movies by 600 users. For now, we will only work with a subset of the dataset. In particular, we will randomly chose a particular number of users and extract the movies and ratings that the users gave to those movies. Read the code below and understand what it is doing.\n",
    "\n",
    "**Before you run the code**, notice that `YourStudentID` in the first line is a variable that will specify the seed for the random number generator that will select a particular set of `nUsersInExample` users. Change the number that has been assigned by default to `YourStudentID` to the last three digits of your UCard number. All of you will have a different subset of users."
   ]
  },
  {
   "cell_type": "code",
   "execution_count": 2,
   "metadata": {},
   "outputs": [],
   "source": [
    "YourStudentID = 213  # Include here the last three digits of your UCard number\n",
    "nUsersInExample = 10 # The maximum number of Users we're going to analyse at one time\n",
    "\n",
    "ratings = pd.read_csv(\"./ml-latest-small/ratings.csv\") \n",
    "\"\"\"\n",
    "ratings is a DataFrame with four columns: userId, movieId, rating and tags. We\n",
    "first want to identify how many unique users there are. We can use the unique \n",
    "method in pandas\n",
    "\"\"\"\n",
    "indexes_unique_users = ratings['userId'].unique()\n",
    "n_users = indexes_unique_users.shape[0]\n",
    "\"\"\" \n",
    "We randomly select 'nUsers' users with their ratings. We first fix the seed\n",
    "of the random generator to make sure that we always get the same 'nUsers'\n",
    "\"\"\"\n",
    "np.random.seed(YourStudentID)\n",
    "indexes_users = np.random.permutation(n_users)\n",
    "my_batch_users = indexes_users[0:nUsersInExample]\n",
    "\"\"\"\n",
    "We will use now the list of 'my_batch_users' to create a matrix Y. \n",
    "\"\"\"\n",
    "# We need to make a list of the movies that these users have watched\n",
    "list_movies_each_user = [[] for _ in range(nUsersInExample)]\n",
    "list_ratings_each_user = [[] for _ in range(nUsersInExample)]\n",
    "# Movies\n",
    "list_movies = ratings['movieId'][ratings['userId'] == my_batch_users[0]].values\n",
    "list_movies_each_user[0] = list_movies                    \n",
    "# Ratings                      \n",
    "list_ratings = ratings['rating'][ratings['userId'] == my_batch_users[0]].values\n",
    "list_ratings_each_user[0] = list_ratings\n",
    "# Users\n",
    "n_each_user = list_movies.shape[0]\n",
    "list_users = my_batch_users[0]*np.ones((1, n_each_user))\n",
    "\n",
    "for i in range(1, nUsersInExample):\n",
    "    # Movies\n",
    "    local_list_per_user_movies = ratings['movieId'][ratings['userId'] == my_batch_users[i]].values\n",
    "    list_movies_each_user[i] = local_list_per_user_movies\n",
    "    list_movies = np.append(list_movies,local_list_per_user_movies)\n",
    "    # Ratings                                 \n",
    "    local_list_per_user_ratings = ratings['rating'][ratings['userId'] == my_batch_users[i]].values\n",
    "    list_ratings_each_user[i] = local_list_per_user_ratings\n",
    "    list_ratings = np.append(list_ratings, local_list_per_user_ratings)  \n",
    "    # Users                                   \n",
    "    n_each_user = local_list_per_user_movies.shape[0]                                                                               \n",
    "    local_rep_user =  my_batch_users[i]*np.ones((1, n_each_user))    \n",
    "    list_users = np.append(list_users, local_rep_user)\n",
    "\n",
    "# Let us first see how many unique movies have been rated\n",
    "indexes_unique_movies = np.unique(list_movies)\n",
    "n_movies = indexes_unique_movies.shape[0]\n",
    "\n",
    "# As it is expected no all users have rated all movies. We will build a matrix Y \n",
    "# with NaN inputs and fill according to the data for each user \n",
    "temp = np.empty((n_movies,nUsersInExample,))\n",
    "temp[:] = np.nan\n",
    "Y_with_NaNs = pd.DataFrame(temp)\n",
    "for i in range(nUsersInExample):\n",
    " local_movies = list_movies_each_user[i]\n",
    " ixs = np.in1d(indexes_unique_movies, local_movies)\n",
    " Y_with_NaNs.loc[ixs, i] = list_ratings_each_user[i]\n",
    "\n",
    "Y_with_NaNs.index = indexes_unique_movies.tolist()\n",
    "Y_with_NaNs.columns = my_batch_users.tolist()\n"
   ]
  },
  {
   "cell_type": "markdown",
   "metadata": {},
   "source": [
    "### Assignment Question 2\n",
    "\n",
    "Have a look at the matrix `Y_with_NaNs`. The movies data is now in a data frame which contains one column for each user rating the movie. There are some entries that contain 'NaN'. What does the 'NaN' mean in this context?"
   ]
  },
  {
   "cell_type": "markdown",
   "metadata": {},
   "source": [
    "#### Answer Question 2\n",
    "\n",
    "> What does the 'NaN' mean in this context?\n",
    "\n",
    "The `Y_with_NaNs` is a two-dimensional matrix. The row index is the `movie_id` and the column index is `user_id`. `NaN` represents that the user givien by its user ID doesn't rate the movie by given movie ID."
   ]
  },
  {
   "cell_type": "markdown",
   "metadata": {},
   "source": [
    "Now we will convert our data structure into a form that is appropriate for processing. We will convert the `Y_with_NaNs` dataframe into a new dataframe which contains the user, the movie, and the rating using the following code"
   ]
  },
  {
   "cell_type": "code",
   "execution_count": 3,
   "metadata": {},
   "outputs": [],
   "source": [
    "p_list_ratings = np.concatenate(list_ratings_each_user).ravel()\n",
    "p_list_ratings_original = p_list_ratings.tolist()\n",
    "mean_ratings_train = np.mean(p_list_ratings)\n",
    "p_list_ratings =  p_list_ratings - mean_ratings_train # remove the mean\n",
    "p_list_movies = np.concatenate(list_movies_each_user).ravel().tolist()\n",
    "p_list_users = list_users.tolist()\n",
    "Y = pd.DataFrame({'users': p_list_users, 'movies': p_list_movies, 'ratingsorig': p_list_ratings_original,'ratings':p_list_ratings.tolist()})"
   ]
  },
  {
   "cell_type": "markdown",
   "metadata": {},
   "source": [
    "### Assignment Question 3\n",
    "\n",
    "The dataframes `Y_with_NaNs` and `Y` contain the same information but organised in a different way. Explain what is the difference. We have also included two columns for ratings in dataframe `Y`, `ratingsorig` and `ratings`. Explain\n",
    "the difference. \n",
    "\n",
    "*10 marks*"
   ]
  },
  {
   "cell_type": "markdown",
   "metadata": {},
   "source": [
    "#### Question 3 Answer\n",
    "\n",
    "> The dataframes Y_with_NaNs and Y contain the same information but organised in a different way. Explain what is the difference.\n",
    "\n",
    "The dataframe `Y_with_NaNs` uses a form of matrix to show the exact rating by all choosen user upon all movies that been given a rating. Since not all users rated the same set of moveis, `NaN` exists in case of the user didn't rate the given movie, which makes the data less intuitive.\n",
    "\n",
    "The dataframe `Y` only stores only the rating related data given by the users toward their choosen movies. Therefore, no `NaN` are stored in this dataframe. Besides, `Y` provides another indicator, `ratings`, generated by the original rating minus the mean value of all given ratings.\n",
    "\n",
    "> We have also included two columns for ratings in dataframe Y, ratingsorig and ratings. Explain the difference.\n",
    "\n",
    "The index `ratingsorig` is the original rating given by the user toward the the movie, while the index `rating` is the original rating minus the mean value of all given rating. The index `rating` can better reflects the user's impression toward the film relative to the average."
   ]
  },
  {
   "cell_type": "markdown",
   "metadata": {},
   "source": [
    "## Measuring Similarity\n",
    "\n",
    "We now need a measure for determining the similarity between the item and the user: how close the user is sitting to the item in the rooom if you like. We are going to use the inner product between the vector representing the item and the vector representing the user. \n",
    "\n",
    "An inner product (or [dot product](http://en.wikipedia.org/wiki/Dot_product)) between two vectors $\\mathbf{a}$ and $\\mathbf{b}$ is written as $\\mathbf{a}\\cdot\\mathbf{b}$. Or in vector notation we sometimes write it as $\\mathbf{a}^\\top\\mathbf{b}$. An inner product is simply the sume of the products of each element of the vector,\n",
    "$$\n",
    "\\mathbf{a}^\\top\\mathbf{b} = \\sum_{i} a_i b_i\n",
    "$$\n",
    "The inner product can be seen as a measure of similarity. The inner product gives us the cosine of the angle between the two vectors multiplied by their length. The smaller the angle between two vectors the larger the inner product. \n",
    "$$\n",
    "\\mathbf{a}^\\top\\mathbf{b} = |\\mathbf{a}||\\mathbf{b}| \\cos(\\theta)\n",
    "$$\n",
    "where $\\theta$ is the angle between two vectors and $|\\mathbf{a}|$ and $|\\mathbf{b}|$ are the respective lengths of the two vectors.\n",
    "\n",
    "Since we want each user to be sitting near each item, then we want the inner product to be large for any two items which are rated highly by that user. We can do this by trying to force the inner product $\\mathbf{u}_i^\\top\\mathbf{v}_j$ to be similar to the rating given by the user, $y_{i,j}$. To ensure this we will use a least squares objective function for all user ratings."
   ]
  },
  {
   "cell_type": "markdown",
   "metadata": {},
   "source": [
    "## Objective Function\n",
    "\n",
    "The error function (or objective function, or cost function) we will choose is known as 'sum of squares', we will aim to minimize the sum of squared squared error between the inner product of $\\mathbf{u}_i$ and $\\mathbf{v}_i$ and the observed score for the user/item pairing, given by $y_{i, j}$. \n",
    "\n",
    "The total objective function can be written as\n",
    "$$\n",
    "E(\\mathbf{U}, \\mathbf{V}) = \\sum_{i,j} s_{i,j} (y_{i,j} - \\mathbf{u}_i^\\top \\mathbf{v}_j)^2\n",
    "$$\n",
    "where $s_{i,j}$ is an *indicator* variable that is 1 if user $i$ has rated item $j$ and is zero otherwise. Here $\\mathbf{U}$ is the matrix made up of all the vectors $\\mathbf{u}$,\n",
    "$$\n",
    "\\mathbf{U} = \\begin{bmatrix} \\mathbf{u}_1 \\dots \\mathbf{u}_n\\end{bmatrix}^\\top\n",
    "$$\n",
    "where we note that $i$th *row* of $\\mathbf{U}$ contains the vector associated with the $i$th user and $n$ is the total number of users. This form of matrix is known as a *design matrix*. Similarly, we define the matrix\n",
    "$$\n",
    "\\mathbf{V} = \\begin{bmatrix} \\mathbf{v}_1 \\dots \\mathbf{v}_m\\end{bmatrix}^\\top\n",
    "$$\n",
    "where again the $j$th row of $\\mathbf{V}$ contains the vector associated with the $j$th item and $m$ is the total number of items in the data set.\n",
    "\n",
    "## Objective Optimization\n",
    "\n",
    "The idea is to mimimize this objective. A standard, simple, technique for minimizing an objective is *gradient descent* or *steepest descent*. In gradient descent we simply choose to update each parameter in the model by subtracting a multiple of the objective function's gradient with respect to the parameters. So for a parameter $u_{i,j}$ from the matrix $\\mathbf{U}$ we would have an update as follows:\n",
    "$$\n",
    "u_{k,\\ell} \\leftarrow u_{k,\\ell} - \\eta \\frac{\\text{d} E(\\mathbf{U}, \\mathbf{V})}{\\text{d}u_{k,\\ell}} \n",
    "$$\n",
    "where $\\eta$ (which is pronounced *eta* in English) is a Greek letter representing the *learning rate*.  \n",
    "\n",
    "We can compute the gradient of the objective function with respect to $u_{k,\\ell}$ as\n",
    "$$\n",
    "\\frac{\\text{d}E(\\mathbf{U}, \\mathbf{V})}{\\text{d}u_{k,\\ell}} = -2 \\sum_j s_{k,j}v_{j,\\ell}(y_{k, j} - \\mathbf{u}_k^\\top\\mathbf{v}_{j}). \n",
    "$$\n",
    "Similarly each parameter $v_{i,j}$ needs to be updated according to its gradient. \n"
   ]
  },
  {
   "cell_type": "markdown",
   "metadata": {},
   "source": [
    "### Assignment Question 4\n",
    "\n",
    "What is the gradient of the objective function with respect to $v_{k, \\ell}$? Write your answer in the box below, and explain which differentiation techniques you used to get there. You will be expected to justify your answer in class by oral questioning. \n",
    "\n",
    "*15 marks*"
   ]
  },
  {
   "cell_type": "markdown",
   "metadata": {},
   "source": [
    "#### Question 4 Answer\n",
    "\n",
    "> What is the gradient of the objective function with respect to $v_{k, \\ell}$?\n",
    "\n",
    "The objective function is:\n",
    "$$\n",
    "E(\\mathbf{U}, \\mathbf{V}) = \\sum_{i,j} s_{i,j} (y_{i,j} - \\mathbf{u}_i^\\top \\mathbf{v}_j)^2\n",
    "$$\n",
    "\n",
    "Let us assume a function:\n",
    "\n",
    "$$\n",
    "f(x)=x^2\n",
    "$$\n",
    "\n",
    "We can represent it in another form:\n",
    "\n",
    "$$\n",
    "\\frac{\\text{d}E(\\mathbf{U}, \\mathbf{V})}{\\text{d}v_{k, \\ell}}=\\sum_{i} s_{i, k} f(y_{i, k}-\\mathbf{u}_i^\\top \\mathbf{v}_k)\n",
    "$$\n",
    "\n",
    "\n",
    "According to the chain rule:\n",
    "\n",
    "$$\n",
    "\\frac{\\text{d}E(\\mathbf{U}, \\mathbf{V})}{\\text{d}v_{k, \\ell}}=\\sum_{i} s_{i, k} \\frac{f(y_{i, k}-\\mathbf{u}_i^\\top \\mathbf{v}_k)} {\\text{d}x} \\frac{(y_{i, k}-\\mathbf{u}_i^\\top \\mathbf{v}_k)} {\\text{d}v_{k, \\ell}}\n",
    "$$\n",
    "\n",
    "And:\n",
    "$$\n",
    "\\frac{f(y_{i, k}-\\mathbf{u}_i^\\top \\mathbf{v}_k)} {\\text{d}x}=2(y_{i, k}-\\mathbf{u}_i^\\top \\mathbf{v}_k)\n",
    "$$\n",
    "\n",
    "$$\n",
    "\\frac{(y_{i, k}-\\mathbf{u}_i^\\top \\mathbf{v}_k)} {\\text{d}v_{k, \\ell}}=-\\mathbf{u}_{i, \\ell}\n",
    "$$\n",
    "\n",
    "That gives the gradient of the objective function with respect to $v_{k, \\ell}$:\n",
    "\n",
    "$$\n",
    "\\frac{\\text{d}E(\\mathbf{U}, \\mathbf{V})}{\\text{d}v_{k, \\ell}} = -2 \\sum_i s_{i,k}u_{i,\\ell}(y_{i, k} - \\mathbf{u}_i^\\top\\mathbf{v}_{k}). \n",
    "$$\n",
    "\n",
    "> and explain which differentiation techniques you used to get there.\n",
    "\n",
    "The chain rule is used here."
   ]
  },
  {
   "cell_type": "markdown",
   "metadata": {},
   "source": [
    "## Steepest Descent Algorithm\n",
    "\n",
    "In the steepest descent algorithm we aim to minimize the objective function by subtacting the gradient of the objective function from the parameters. \n",
    "\n",
    "### Initialisation\n",
    "\n",
    "To start with though, we need initial values for the matrix $\\mathbf{U}$ and the matrix $\\mathbf{V}$. Let's create them as `pandas` data frames and initialise them randomly with small values."
   ]
  },
  {
   "cell_type": "code",
   "execution_count": 4,
   "metadata": {},
   "outputs": [],
   "source": [
    "q = 2 # the dimension of our map of the 'library'\n",
    "learn_rate = 0.01\n",
    "U = pd.DataFrame(np.random.normal(size=(nUsersInExample, q))*0.001, index=my_batch_users)\n",
    "V = pd.DataFrame(np.random.normal(size=(n_movies, q))*0.001, index=indexes_unique_movies)"
   ]
  },
  {
   "cell_type": "markdown",
   "metadata": {},
   "source": [
    "Now that we have the initial values set, we can start the optimization. First we define a function for the gradient of the objective and the objective function itself."
   ]
  },
  {
   "cell_type": "code",
   "execution_count": 5,
   "metadata": {},
   "outputs": [],
   "source": [
    "def objective_gradient(Y, U, V):\n",
    "    gU = pd.DataFrame(np.zeros((U.shape)), index=U.index)\n",
    "    gV = pd.DataFrame(np.zeros((V.shape)), index=V.index)\n",
    "    obj = 0.\n",
    "    nrows = Y.shape[0]\n",
    "    for i in range(nrows):\n",
    "        row = Y.iloc[i]\n",
    "        user = row['users']\n",
    "        film = row['movies']\n",
    "        rating = row['ratings']\n",
    "        prediction = np.dot(U.loc[user], V.loc[film]) # vTu\n",
    "        # print(\"user:{}, film:{}, U.loc[user]:{}, V.loc[film]:{}, prediction:{}\".format(user, film, U.loc[user], V.loc[film], prediction))\n",
    "        diff = prediction - rating # vTu - y\n",
    "        # print(\"raing:{}, diff:{}\".format(rating, diff))\n",
    "        obj += diff*diff\n",
    "        gU.loc[user] += 2*diff*V.loc[film]\n",
    "        gV.loc[film] += 2*diff*U.loc[user]\n",
    "    return obj, gU, gV\n",
    "\n",
    "#obj, gU, gV=objective_gradient(Y, U, V)\n",
    "#print(\"obj:{}\".format(obj))\n",
    "#print(\"gU:{}\".format(gU))\n",
    "#print(\"gV:{}\".format(gV))\n"
   ]
  },
  {
   "cell_type": "markdown",
   "metadata": {},
   "source": [
    "Now we can write our simple optimisation route. This allows us to observe the objective function as the optimization proceeds."
   ]
  },
  {
   "cell_type": "code",
   "execution_count": 6,
   "metadata": {},
   "outputs": [
    {
     "name": "stdout",
     "output_type": "stream",
     "text": [
      "Iteration 0 Objective function:  2503.9905078835563\n",
      "Iteration 1 Objective function:  2503.989895737157\n",
      "Iteration 2 Objective function:  2503.98916416324\n",
      "Iteration 3 Objective function:  2503.987640597993\n",
      "Iteration 4 Objective function:  2503.984120320747\n",
      "Iteration 5 Objective function:  2503.9755491750334\n",
      "Iteration 6 Objective function:  2503.953818993185\n",
      "Iteration 7 Objective function:  2503.8968830398067\n",
      "Iteration 8 Objective function:  2503.7437256228723\n",
      "Iteration 9 Objective function:  2503.3232443763095\n",
      "Iteration 10 Objective function:  2502.151122264419\n",
      "Iteration 11 Objective function:  2498.848835588357\n",
      "Iteration 12 Objective function:  2489.4920328871963\n",
      "Iteration 13 Objective function:  2463.0351274694517\n",
      "Iteration 14 Objective function:  2389.6848865349534\n",
      "Iteration 15 Objective function:  2199.528629513113\n",
      "Iteration 16 Objective function:  1796.2388446371785\n",
      "Iteration 17 Objective function:  1312.6660202321416\n",
      "Iteration 18 Objective function:  1168.6675103343612\n",
      "Iteration 19 Objective function:  1094.9931175259685\n"
     ]
    }
   ],
   "source": [
    "iterations = 20\n",
    "for i in range(iterations):\n",
    "    obj, gU, gV = objective_gradient(Y, U, V)\n",
    "    print(\"Iteration\", i, \"Objective function: \", obj)\n",
    "    U -= learn_rate*gU\n",
    "    V -= learn_rate*gV    "
   ]
  },
  {
   "cell_type": "markdown",
   "metadata": {},
   "source": [
    "### Assignment Question 5\n",
    "\n",
    "What happens as you increase the number of iterations? What happens if you increase the learning rate?\n",
    "\n",
    "*10 marks*"
   ]
  },
  {
   "cell_type": "markdown",
   "metadata": {},
   "source": [
    "#### Question 5 Answer\n",
    "\n",
    "> What happens as you increase the number of iterations? \n",
    "\n",
    "The result of objectvie function will continuously descrease with the increase of the number of iterations.\n",
    "\n",
    "> What happens if you increase the learning rate?\n",
    "\n",
    "The rate of descent in each iteration of the result of objective function becomes quicker with the increase of the learning rate."
   ]
  },
  {
   "cell_type": "code",
   "execution_count": 7,
   "metadata": {},
   "outputs": [],
   "source": [
    "# Question 5 Code Answer"
   ]
  },
  {
   "cell_type": "markdown",
   "metadata": {},
   "source": [
    "## Making Predictions\n",
    "\n",
    "Predictions can be made from the model of the appropriate rating for a given user, $i$, for a given film, $j$, by simply taking the inner product between their vectors $\\mathbf{u}_i$ and $\\mathbf{v}_j$. "
   ]
  },
  {
   "cell_type": "markdown",
   "metadata": {},
   "source": [
    "### Assignment Question 6\n",
    "\n",
    "Create a function that provides the prediction of the ratings for the users in the dataset. Is the quality of the predictions affected by the number of iterations or the learning rate? The function should receive `Y`, `U` and `V` and return the predictions and the absolute error between the predictions and the actual rating given by the users. The predictions and the absolute error should be added as additional columns to the dataframe `Y`.\n",
    "\n",
    "*15 marks*"
   ]
  },
  {
   "cell_type": "code",
   "execution_count": 8,
   "metadata": {},
   "outputs": [],
   "source": [
    "# Question 6 Code Answer\n",
    "def make_prediction(Y, U, V):\n",
    "    nrows=Y.shape[0]\n",
    "    Y=Y.assign(prediction=pd.Series(np.zeros(nrows)).values)\n",
    "    Y=Y.assign(absolute_error=pd.Series(np.zeros(nrows)).values)\n",
    "    row=random\n",
    "    obj=0\n",
    "    #print(Y)\n",
    "    for i in range(nrows):\n",
    "        row=Y.iloc[i]\n",
    "        user=row['users']\n",
    "        film=row['movies']\n",
    "        prediction=np.dot(U.loc[user], V.loc[film])\n",
    "        absolute_error=np.abs(prediction-row['ratings'])\n",
    "        #print(\"prediction:{}, absolute_error:{}\".format(prediction, absolute_error))\n",
    "        Y.loc[i, 'prediction']=prediction\n",
    "        Y.loc[i, 'absolute_error']=absolute_error\n",
    "        obj+=absolute_error*absolute_error\n",
    "        \n",
    "    print(obj)\n",
    "    print(Y)"
   ]
  },
  {
   "cell_type": "markdown",
   "metadata": {},
   "source": [
    "## Stochastic Gradient Descent or Robbins Monroe Algorithm\n",
    "\n",
    "Stochastic gradient descent involves updating separating each gradient update according to each separate observation, rather than summing over them all. It is an approximate optimization method, but it has proven convergence under certain conditions and can be much faster in practice. It is used widely by internet companies for doing machine learning in practice. For example, Facebook's ad ranking algorithm uses stochastic gradient descent. "
   ]
  },
  {
   "cell_type": "markdown",
   "metadata": {},
   "source": [
    "### Assignment Question 7\n",
    "\n",
    "Create a stochastic gradient descent version of the algorithm. Monitor the objective function after every 1000 updates to ensure that it is decreasing. When you have finished, plot the movie map and the user map in two dimensions (you can use the columns of the matrices $\\mathbf{U}$ for the user map and the columns of $\\mathbf{V}$ for the movie map). Provide three observations about these maps.\n",
    "\n",
    "*25 marks*"
   ]
  },
  {
   "cell_type": "code",
   "execution_count": 9,
   "metadata": {},
   "outputs": [
    {
     "name": "stdout",
     "output_type": "stream",
     "text": [
      "Iteration 0 Objective function:  989.7398565559142\n",
      "Iteration 1000 Objective function:  932.917321086348\n",
      "Iteration 2000 Objective function:  882.1167130071296\n",
      "Iteration 3000 Objective function:  843.7373340909049\n",
      "Iteration 4000 Objective function:  812.0928465652227\n",
      "Iteration 5000 Objective function:  783.2594246507299\n",
      "Iteration 6000 Objective function:  759.201349184993\n",
      "Iteration 7000 Objective function:  737.450996844066\n",
      "Iteration 8000 Objective function:  721.2504636226677\n",
      "Iteration 9000 Objective function:  706.4259073497919\n"
     ]
    }
   ],
   "source": [
    "# this ensures the plot appears in the web browser\n",
    "%matplotlib inline \n",
    "import pylab as plt # this imports the plotting library in python\n",
    "\n",
    "def make_SGD_update(Y, U, V):\n",
    "    nrows=Y.shape[0]\n",
    "    rand_row=np.random.choice(nrows)\n",
    "    row=Y.iloc[rand_row]\n",
    "    user=row['users']\n",
    "    film=row['movies']\n",
    "    rating=row['ratings']\n",
    "    prediction=np.dot(U.loc[user], V.loc[film])\n",
    "    diff=rating-prediction\n",
    "    U.loc[user]+=2*learn_rate*diff*V.loc[film]\n",
    "    V.loc[film]+=2*learn_rate*diff*U.loc[user]\n",
    "    \n",
    "def calc_obj(Y, U, V):\n",
    "    obj=0\n",
    "    nrows=Y.shape[0]\n",
    "    for i in range(nrows):\n",
    "        row = Y.iloc[i]\n",
    "        user = row['users']\n",
    "        film = row['movies']\n",
    "        rating = row['ratings']\n",
    "        prediction = np.dot(U.loc[user], V.loc[film]) # vTu\n",
    "        diff = prediction - rating # vTu - y\n",
    "        obj += diff*diff\n",
    "        \n",
    "    return obj\n",
    "\n",
    "def make_SGD_prediction(Y, U, V):\n",
    "    for i in range(10000):\n",
    "        make_SGD_update(Y, U, V)\n",
    "        if i%1000==0:\n",
    "            obj=calc_obj(Y, U, V)\n",
    "            print(\"Iteration\", i, \"Objective function: \", obj)\n",
    "\n",
    "    \n",
    "make_SGD_prediction(Y, U, V)"
   ]
  },
  {
   "cell_type": "code",
   "execution_count": 10,
   "metadata": {},
   "outputs": [
    {
     "data": {
      "image/png": "[encoded data removed]",
      "text/plain": [
       "<Figure size 432x288 with 3 Axes>"
      ]
     },
     "metadata": {},
     "output_type": "display_data"
    }
   ],
   "source": [
    "def plot_user_map(U):\n",
    "    plt.subplot(221)\n",
    "    plt.plot(U[0], U[1], 'rx')\n",
    "\n",
    "def plot_movie_map(V): \n",
    "    plt.subplot(222)\n",
    "    plt.plot(V[0], V[1], 'go')\n",
    "    \n",
    "def plot_both_maps(U, V):\n",
    "    plt.subplot(223)\n",
    "    plt.plot(U[0], U[1], 'rx')\n",
    "    plt.plot(V[0], V[1], 'go')\n",
    "\n",
    "plt.figure(1)\n",
    "plot_user_map(U)\n",
    "plot_movie_map(V)\n",
    "plot_both_maps(U, V)"
   ]
  },
  {
   "cell_type": "markdown",
   "metadata": {},
   "source": [
    "> Provide three observations about these maps.\n",
    "\n",
    "1. The vector of movies get closer with the increase of iteration number.\n",
    "2. Most of  vector of users get closer to each other but two of them leave away from the majority\n",
    "3. The vector of movies get closer to the vector of users with the increase of iteration number."
   ]
  },
  {
   "cell_type": "markdown",
   "metadata": {},
   "source": [
    "## Is Our Map Enough? Are Our Data Enough?\n",
    "\n",
    "Is two dimensions really enough to capture the complexity of humans and their artforms? Perhaps we need even more dimensions to capture that complexity. Extending our books analogy further, consider how we should place books that have a historical timeframe as well as some geographical location. Do we really want books from the 2nd World War to sit alongside books from the Roman Empire? Books on the American invasion of Sicily in 1943 are perhaps less related to books about Carthage than those that study the Jewish Revolt from 66-70 (in the Roman Province of Judaea). So books that relate to subjects which are closer in time should be stored together. However, a student of rebellion against empire may also be interested in the relationship between the Jewish Revolt of 66-70 and the Indian Rebellion of 1857, nearly 1800 years later. Whilst the technologies are different, the psychology of the people is shared: a rebellious nation angainst their imperial masters, triggered by misrule with a religious and cultural background. To capture such complexities we would need further dimensions in our latent representation. But are further dimensions justified by the amount of data we have? Can we really understand the facets of a film that only has at most three or four ratings?"
   ]
  },
  {
   "cell_type": "markdown",
   "metadata": {},
   "source": [
    "## Going Further\n",
    "\n",
    "If you want to take this model further then you'll need more data. You can use again the MovieLens 100k data but increasing the number of users (for example, for the Steepest Descent Algorithm you can do this by modifying the variable `nUsersInExample` that was set as 10 before)."
   ]
  },
  {
   "cell_type": "markdown",
   "metadata": {},
   "source": [
    "### Assignment Question 8\n",
    "\n",
    "Use stochastic gradient descent to make a movie map for the MovieLens 100k data. Plot the map of the movies when you are finished.\n",
    "\n",
    "*15 marks*"
   ]
  },
  {
   "cell_type": "code",
   "execution_count": 11,
   "metadata": {},
   "outputs": [
    {
     "name": "stdout",
     "output_type": "stream",
     "text": [
      "Iteration 0 Objective function:  20742.691446700053\n",
      "Iteration 1000 Objective function:  20742.691255415968\n",
      "Iteration 2000 Objective function:  20742.69108993144\n",
      "Iteration 3000 Objective function:  20742.690872531628\n",
      "Iteration 4000 Objective function:  20742.6907055962\n",
      "Iteration 5000 Objective function:  20742.690600272537\n",
      "Iteration 6000 Objective function:  20742.69033007034\n",
      "Iteration 7000 Objective function:  20742.690183290902\n",
      "Iteration 8000 Objective function:  20742.689997375637\n",
      "Iteration 9000 Objective function:  20742.689837603968\n"
     ]
    },
    {
     "data": {
      "image/png": "[encoded data removed]",
      "text/plain": [
       "<Figure size 432x288 with 1 Axes>"
      ]
     },
     "metadata": {},
     "output_type": "display_data"
    }
   ],
   "source": [
    "# Code for question 8 here.\n",
    "    \n",
    "def generate_Y_U_V(nUsersInExample, StudentID):\n",
    "    ratings=pd.read_csv(\"./ml-latest-small/ratings.csv\")\n",
    "    indexes_unique_users=ratings['userId'].unique()\n",
    "    n_users=indexes_unique_users.shape[0]\n",
    "    \n",
    "    np.random.seed(StudentID)\n",
    "    indexes_users=np.random.permutation(n_users)\n",
    "    my_batch_users=indexes_users[0:nUsersInExample]\n",
    "    \n",
    "    list_movies_each_user=[[] for _ in range(nUsersInExample)]\n",
    "    list_ratings_each_user=[[] for _ in range(nUsersInExample)]\n",
    "    list_users=[[] for _ in range(nUsersInExample)]\n",
    "    list_movies=[]\n",
    "    \n",
    "    for i in range(nUsersInExample):\n",
    "        list_movies_each_user[i]=ratings['movieId'][ratings['userId']==my_batch_users[i]].values\n",
    "        list_movies=np.append(list_movies, list_movies_each_user[i])\n",
    "        list_ratings_each_user[i]=ratings['rating'][ratings['userId']==my_batch_users[i]].values\n",
    "        list_users[i]=my_batch_users[i]*np.ones((len(list_ratings_each_user[i])))\n",
    "    \n",
    "    p_list_movies=np.concatenate(list_movies_each_user).ravel().tolist()\n",
    "    \n",
    "    indexes_unique_movies=np.unique(list_movies)\n",
    "    n_movies=indexes_unique_movies.shape[0]\n",
    "    \n",
    "    p_list_ratings=np.concatenate(list_ratings_each_user).ravel()\n",
    "    p_list_ratings_original=p_list_ratings.tolist()\n",
    "    mean_ratings_train=np.mean(p_list_ratings)\n",
    "    p_list_ratings=p_list_ratings-mean_ratings_train\n",
    "    p_list_users=np.concatenate(list_users).ravel().tolist()\n",
    "    Y = pd.DataFrame({'users': p_list_users, 'movies': p_list_movies, 'ratingsorig': p_list_ratings_original,'ratings':p_list_ratings.tolist()})\n",
    "    \n",
    "    U = pd.DataFrame(np.random.normal(size=(nUsersInExample, 2))*0.001, index=my_batch_users)\n",
    "    V = pd.DataFrame(np.random.normal(size=(n_movies, 2))*0.001, index=indexes_unique_movies)\n",
    "    return Y, U, V\n",
    "\n",
    "def make_SGD_prediction(Y, U, V):\n",
    "    for i in range(10000):\n",
    "        make_SGD_update(Y, U, V)\n",
    "        if i%1000==0:\n",
    "            obj=calc_obj(Y, U, V)\n",
    "            print(\"Iteration\", i, \"Objective function: \", obj)\n",
    "\n",
    "def plot_movie_map(V): \n",
    "    plt.plot(V[0], V[1], 'rx')\n",
    "\n",
    "nUsersInExample=100\n",
    "StudentID=213\n",
    "Y, U, V=generate_Y_U_V(nUsersInExample, StudentID)\n",
    "make_SGD_prediction(Y, U, V)\n",
    "plot_movie_map(V)\n"
   ]
  }
 ],
 "metadata": {
  "kernelspec": {
   "display_name": "Python 3",
   "language": "python",
   "name": "python3"
  },
  "language_info": {
   "codemirror_mode": {
    "name": "ipython",
    "version": 3
   },
   "file_extension": ".py",
   "mimetype": "text/x-python",
   "name": "python",
   "nbconvert_exporter": "python",
   "pygments_lexer": "ipython3",
   "version": "3.6.5"
  }
 },
 "nbformat": 4,
 "nbformat_minor": 1
}
